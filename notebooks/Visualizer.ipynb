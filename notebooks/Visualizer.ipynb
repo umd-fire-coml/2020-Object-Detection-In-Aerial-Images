{
 "cells": [
  {
   "cell_type": "code",
   "execution_count": null,
   "metadata": {},
   "outputs": [],
   "source": [
    "import sys\n",
    "import os\n",
    "from matplotlib import pyplot as plt\n",
    "import cv2\n",
    "import numpy as np\n",
    "import tensorflow as tf\n",
    "import gc\n",
    "sys.path.append(os.path.join(os.path.split(sys.path[0])[0],\"scripts\"))\n",
    "from augmentation import augment\n",
    "from data_generator import DOTASequence, SegmentationSequence\n",
    "import model_builder"
   ]
  },
  {
   "cell_type": "code",
   "execution_count": null,
   "metadata": {},
   "outputs": [],
   "source": [
    "images_path = '../data/train/images'\n",
    "annot_path = '../data/train/masks'\n",
    "seg_generator = SegmentationSequence(images_path, annot_path, augmenter = augment, output_img_size=(5000, 3500))"
   ]
  },
  {
   "cell_type": "code",
   "execution_count": null,
   "metadata": {},
   "outputs": [],
   "source": [
    "img, mask = seg_generator[0]\n",
    "img = img[0].astype(np.uint8)\n",
    "mask = mask[0]\n",
    "fig = plt.figure(figsize=(10,20))\n",
    "fig.add_subplot(2, 1, 1)\n",
    "plt.imshow(img)\n",
    "fig.add_subplot(2, 1, 2)\n",
    "plt.imshow(mask[:,:,0], cmap=\"hot\", interpolation=\"nearest\")"
   ]
  },
  {
   "cell_type": "code",
   "execution_count": null,
   "metadata": {},
   "outputs": [],
   "source": [
    "model = model_builder.build_segmentation_model((None, None, 3), 4, 3, 8, 16)\n",
    "imgbatch, annotbatch = seg_generator[0]\n",
    "fig = plt.figure(figsize=(25, 25))\n",
    "for i, img in enumerate(imgbatch):\n",
    "    padded_img = np.zeros(\n",
    "        (1, (img.shape[0] // 16 + 1) * 16, (img.shape[1] // 16 + 1) * 16, 3)\n",
    "    )\n",
    "    padded_img[0, : img.shape[0], : img.shape[1], :] = img\n",
    "    pred = model.predict(padded_img)\n",
    "    pred = np.argmax(pred, axis=3)[0]\n",
    "    fig.add_subplot(2, 5, i + 1)\n",
    "    plt.imshow(padded_img[0].astype(np.uint8))\n",
    "    fig.add_subplot(2, 5, i + 6)\n",
    "    plt.imshow(pred, cmap=\"hot\", interpolation=\"nearest\")"
   ]
  },
  {
   "cell_type": "code",
   "execution_count": null,
   "metadata": {},
   "outputs": [],
   "source": [
    "model = tf.keras.models.load_model(\".\\\\ckpts\", compile=False, custom_objects={'iou_coef': accuracy.iou_coef})"
   ]
  },
  {
   "cell_type": "code",
   "execution_count": null,
   "metadata": {},
   "outputs": [],
   "source": [
    "seg_generator = SegmentationSequence(\n",
    "        images_path, annot_path, batch_size=1\n",
    "    )\n",
    "for i in range(30):\n",
    "    img, mask = seg_generator[0]\n",
    "\n",
    "img.shape = (1, 480, 480, 3)\n",
    "mask.shape = (1, 480, 480, 16)\n",
    "plt.figure(figsize=(10,10))\n",
    "plt.imshow(img[0])\n",
    "pred = model.predict(img)[0]\n",
    "pred = pred * 255\n",
    "pred = pred.astype(np.uint8)\n",
    "fig = plt.figure(figsize=(8,48))\n",
    "for cnum in range(16):\n",
    "    fig.add_subplot(16, 2, 2 * cnum + 1)\n",
    "    plt.imshow(mask[0,:,:,cnum], cmap='hot', interpolation=\"nearest\")\n",
    "    fig.add_subplot(16, 2, 2 * cnum + 2)\n",
    "    plt.imshow(pred[:,:,cnum], cmap='hot', interpolation=\"nearest\")\n",
    "\n",
    "pred_max = np.argmax(pred, axis=2)\n",
    "fig = plt.figure(figsize=(10,10))\n",
    "plt.imshow(pred_max, cmap='hot', interpolation=\"nearest\")"
   ]
  },
  {
   "cell_type": "code",
   "execution_count": null,
   "metadata": {},
   "outputs": [],
   "source": [
    "tf.keras.backend.clear_session()\n",
    "del model\n",
    "gc.collect()"
   ]
  }
 ],
 "metadata": {
  "kernelspec": {
   "display_name": "Python 3",
   "language": "python",
   "name": "python3"
  },
  "language_info": {
   "codemirror_mode": {
    "name": "ipython",
    "version": 3
   },
   "file_extension": ".py",
   "mimetype": "text/x-python",
   "name": "python",
   "nbconvert_exporter": "python",
   "pygments_lexer": "ipython3",
   "version": "3.7.8"
  }
 },
 "nbformat": 4,
 "nbformat_minor": 4
}
