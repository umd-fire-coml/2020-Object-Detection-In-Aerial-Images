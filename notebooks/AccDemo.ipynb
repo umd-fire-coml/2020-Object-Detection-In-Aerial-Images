{
 "cells": [
  {
   "cell_type": "code",
   "execution_count": 2,
   "metadata": {},
   "outputs": [],
   "source": [
    "import tensorflow as tf\n",
    "import accuracy"
   ]
  },
  {
   "cell_type": "code",
   "execution_count": 14,
   "metadata": {},
   "outputs": [
    {
     "name": "stdout",
     "output_type": "stream",
     "text": [
      "tf.Tensor(1.0, shape=(), dtype=float64)\n",
      "tf.Tensor(0.5714285714285714, shape=(), dtype=float64)\n"
     ]
    }
   ],
   "source": [
    "# A simple case with a matrix representing a 3x3 image with one segmentation class\n",
    "test_true = tf.constant([[[[1],[1],[0]],\n",
    "                          [[1],[1],[0]],\n",
    "                          [[1],[0],[0]]]])\n",
    "\n",
    "test_pred = tf.constant([[[[1],[1],[0]],\n",
    "                          [[1],[1],[0]],\n",
    "                          [[1],[0],[0]]]])\n",
    "\n",
    "test_pred2 = tf.constant([[[[1],[0],[0]],\n",
    "                           [[1],[0],[0]],\n",
    "                           [[1],[1],[0]]]])\n",
    "\n",
    "print(accuracy.iou_coef(test_true, test_pred))\n",
    "print(accuracy.iou_coef(test_true, test_pred2))"
   ]
  }
 ],
 "metadata": {
  "kernelspec": {
   "display_name": "Python 3",
   "language": "python",
   "name": "python3"
  },
  "language_info": {
   "codemirror_mode": {
    "name": "ipython",
    "version": 3
   },
   "file_extension": ".py",
   "mimetype": "text/x-python",
   "name": "python",
   "nbconvert_exporter": "python",
   "pygments_lexer": "ipython3",
   "version": "3.7.8"
  }
 },
 "nbformat": 4,
 "nbformat_minor": 4
}
