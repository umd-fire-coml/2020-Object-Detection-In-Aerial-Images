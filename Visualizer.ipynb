{
 "metadata": {
  "language_info": {
   "codemirror_mode": {
    "name": "ipython",
    "version": 3
   },
   "file_extension": ".py",
   "mimetype": "text/x-python",
   "name": "python",
   "nbconvert_exporter": "python",
   "pygments_lexer": "ipython3",
   "version": 3
  },
  "orig_nbformat": 2
 },
 "nbformat": 4,
 "nbformat_minor": 2,
 "cells": [
  {
   "cell_type": "code",
   "execution_count": null,
   "metadata": {},
   "outputs": [],
   "source": [
    "import sys\n",
    "import os\n",
    "from matplotlib import pyplot as plt\n",
    "import cv2\n",
    "import numpy as np\n",
    "import tensorflow as tf\n",
    "import gc\n",
    "\n",
    "from augmentation import augment\n",
    "from data_generator import DOTASequence, SegmentationSequence\n",
    "import model_builder\n",
    "import accuracy"
   ]
  },
  {
   "cell_type": "code",
   "execution_count": null,
   "metadata": {},
   "outputs": [],
   "source": [
    "annot_path = 'data/train/annotations' #Path to directory of annotations\n",
    "images_path = 'data/train/images' #Path to directory of images\n",
    "generator = DOTASequence(images_path, annot_path, augmenter = augment)"
   ]
  },
  {
   "cell_type": "code",
   "execution_count": null,
   "metadata": {},
   "outputs": [],
   "source": [
    "idx = 4\n",
    "imgbatch, annotbatch = generator[idx]\n",
    "img = imgbatch[0]\n",
    "annot = annotbatch[0]\n",
    "\n",
    "plt.figure(figsize = (25,25))\n",
    "\n",
    "for line in annot:\n",
    "    p1 = int(line[0]), int(line[1])\n",
    "    p2 = int(line[2]), int(line[3])\n",
    "    p3 = int(line[4]), int(line[5])\n",
    "    p4 = int(line[6]), int(line[7])\n",
    "    \n",
    "    color = (0,255,255)\n",
    "    cv2.line(img, p1, p2, color,2)\n",
    "    cv2.line(img, p2, p3, color,2)\n",
    "    cv2.line(img, p3, p4, color,2)\n",
    "    cv2.line(img, p4, p1, color,2)\n",
    "\n",
    "plt.imshow(img)"
   ]
  },
  {
   "cell_type": "code",
   "execution_count": null,
   "metadata": {},
   "outputs": [],
   "source": [
    "# Dank new visualizer for mask utilities and revamp augmentation function below vvvvvvvv\n",
    "\n",
    "import augmentation\n",
    "import masks\n",
    "import cv2\n",
    "import os\n",
    "import matplotlib\n",
    "import numpy as np\n",
    "from matplotlib import pyplot as plt\n",
    "img_path = \"./data/train/images\"\n",
    "box_path = \"./data/train/annotations\"\n",
    "mask_path = \"./data/masks\"\n",
    "\n",
    "if not(os.path.exists(mask_path)):\n",
    "    os.makedirs(mask_path)\n",
    "\n",
    "image_names = [x[:-4] for x in os.listdir(img_path) if x.endswith(\".png\")]"
   ]
  },
  {
   "cell_type": "code",
   "execution_count": null,
   "metadata": {},
   "outputs": [],
   "source": [
    "n = 1\n",
    "index = image_names[n]\n",
    "\n",
    "masks.save_mask(img_path, box_path, index, mask_path)\n",
    "img = cv2.imread(os.path.join(img_path, index + '.png'))\n",
    "mask = masks.load_mask(mask_path, index)\n",
    "\n",
    "aimg, amask = augmentation.augment(img,mask)\n",
    "\n",
    "agmask = np.zeros((amask.shape[0],amask.shape[1]),dtype = np.uint8)\n",
    "for i in range(16):\n",
    "    agmask = agmask + (amask[:,:,i])\n",
    "\n",
    "plt.figure(figsize = (25,25))\n",
    "plt.subplot(121)\n",
    "plt.imshow(aimg)\n",
    "plt.subplot(122)\n",
    "plt.imshow(agmask)"
   ]
  },
  {
   "cell_type": "code",
   "execution_count": null,
   "metadata": {},
   "outputs": [],
   "source": [
    "seg_generator = SegmentationSequence(images_path, annot_path, augmenter = augment, output_img_size=(5000, 3500))\n",
    "img, mask = seg_generator[0]\n",
    "img = img[0].astype(np.uint8)\n",
    "mask = mask[0]\n",
    "fig = plt.figure(figsize=(10,20))\n",
    "fig.add_subplot(2, 1, 1)\n",
    "plt.imshow(img)\n",
    "fig.add_subplot(2, 1, 2)\n",
    "plt.imshow(mask[:,:,0], cmap=\"hot\", interpolation=\"nearest\")"
   ]
  },
  {
   "cell_type": "code",
   "execution_count": null,
   "metadata": {},
   "outputs": [],
   "source": [
    "model = model_builder.build_segmentation_model((None, None, 3), 4, 3, 8, 16)\n",
    "imgbatch, annotbatch = generator[0]\n",
    "fig = plt.figure(figsize=(25, 25))\n",
    "for i, img in enumerate(imgbatch):\n",
    "    padded_img = np.zeros(\n",
    "        (1, (img.shape[0] // 16 + 1) * 16, (img.shape[1] // 16 + 1) * 16, 3)\n",
    "    )\n",
    "    padded_img[0, : img.shape[0], : img.shape[1], :] = img\n",
    "    pred = model.predict(padded_img)\n",
    "    pred = np.argmax(pred, axis=3)[0]\n",
    "    fig.add_subplot(2, 5, i + 1)\n",
    "    plt.imshow(padded_img[0].astype(np.uint8))\n",
    "    fig.add_subplot(2, 5, i + 6)\n",
    "    plt.imshow(pred, cmap=\"hot\", interpolation=\"nearest\")"
   ]
  },
  {
   "cell_type": "code",
   "execution_count": null,
   "metadata": {},
   "outputs": [],
   "source": [
    "model = tf.keras.models.load_model(\".\\\\ckpts\", compile=False, custom_objects={'iou_coef': accuracy.iou_coef})"
   ]
  },
  {
   "cell_type": "code",
   "execution_count": null,
   "metadata": {},
   "outputs": [],
   "source": [
    "seg_generator = SegmentationSequence(\n",
    "        \".\\\\data\\\\train\\\\images\", \".\\\\data\\\\train\\\\annotations\", batch_size=1\n",
    "    )\n",
    "for i in range(30):\n",
    "    img, mask = seg_generator[0]\n",
    "\n",
    "img.shape = (1, 480, 480, 3)\n",
    "mask.shape = (1, 480, 480, 16)\n",
    "plt.figure(figsize=(10,10))\n",
    "plt.imshow(img[0])\n",
    "pred = model.predict(img)[0]\n",
    "pred = pred * 255\n",
    "pred = pred.astype(np.uint8)\n",
    "fig = plt.figure(figsize=(8,48))\n",
    "for cnum in range(16):\n",
    "    fig.add_subplot(16, 2, 2 * cnum + 1)\n",
    "    plt.imshow(mask[0,:,:,cnum], cmap='hot', interpolation=\"nearest\")\n",
    "    fig.add_subplot(16, 2, 2 * cnum + 2)\n",
    "    plt.imshow(pred[:,:,cnum], cmap='hot', interpolation=\"nearest\")\n",
    "\n",
    "pred_max = np.argmax(pred, axis=2)\n",
    "fig = plt.figure(figsize=(10,10))\n",
    "plt.imshow(pred_max, cmap='hot', interpolation=\"nearest\")"
   ]
  },
  {
   "cell_type": "code",
   "execution_count": null,
   "metadata": {},
   "outputs": [],
   "source": [
    "tf.keras.backend.clear_session()\n",
    "del model\n",
    "gc.collect()"
   ]
  }
 ]
}