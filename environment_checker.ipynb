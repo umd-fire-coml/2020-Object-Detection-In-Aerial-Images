{
 "metadata": {
  "language_info": {
   "codemirror_mode": {
    "name": "ipython",
    "version": 3
   },
   "file_extension": ".py",
   "mimetype": "text/x-python",
   "name": "python",
   "nbconvert_exporter": "python",
   "pygments_lexer": "ipython3",
   "version": "3.8.3-final"
  },
  "orig_nbformat": 2,
  "kernelspec": {
   "name": "python_defaultSpec_1600757322283",
   "display_name": "Python 3.8.3 64-bit ('base': conda)"
  }
 },
 "nbformat": 4,
 "nbformat_minor": 2,
 "cells": [
  {
   "cell_type": "code",
   "execution_count": 35,
   "metadata": {},
   "outputs": [],
   "source": [
    "import subprocess"
   ]
  },
  {
   "cell_type": "code",
   "execution_count": 36,
   "metadata": {},
   "outputs": [
    {
     "output_type": "execute_result",
     "data": {
      "text/plain": "CompletedProcess(args=['conda', 'env', 'export'], returncode=0)"
     },
     "metadata": {},
     "execution_count": 36
    }
   ],
   "source": [
    "#getting command output of env export for your environment\n",
    "your_env_file = open('your_environment.txt', 'w')\n",
    "subprocess.run(['conda','env', 'export'], stdout = your_env_file)"
   ]
  },
  {
   "cell_type": "code",
   "execution_count": 37,
   "metadata": {
    "tags": []
   },
   "outputs": [
    {
     "output_type": "execute_result",
     "data": {
      "text/plain": "CompletedProcess(args=['diff', 'your_environment.txt', 'env_requirements.txt'], returncode=1)"
     },
     "metadata": {},
     "execution_count": 37
    }
   ],
   "source": [
    "#comparing with current required packages\n",
    "env_result = open('environment_output.txt', 'w')\n",
    "subprocess.run(['diff', 'your_environment.txt', 'env_requirements.txt'], stdout = env_result)"
   ]
  },
  {
   "cell_type": "code",
   "execution_count": null,
   "metadata": {},
   "outputs": [],
   "source": []
  }
 ]
}